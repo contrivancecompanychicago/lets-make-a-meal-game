import deepnote

main()

{
  "nbformat": 4,
  "nbformat_minor": 0,
  "metadata": {
    "colab": {
      "name": "GUPSYGoogleResearchProject.ipynb",
      "provenance": [],
      "collapsed_sections": []
    },
    "kernelspec": {
      "name": "python3",
      "display_name": "Python 3"
    },
    "language_info": {
      "name": "python"
    }
  },
  "cells": [
    {
      "cell_type": "markdown",
      "source": [
        "# GUPSY Methods\n",
        "\n",
        "\n",
        "```\n",
        "# Markdown\n",
        "```\n",
        "\n"
      ],
      "metadata": {
        "id": "ST7tV1qTDXjS"
      }
    },
    {
      "cell_type": "code",
      "source": [
        "patient = 'AfricanAmerican'"
      ],
      "metadata": {
        "id": "k0N5qZbiEg7r"
      },
      "execution_count": 1,
      "outputs": []
    },
    {
      "cell_type": "code",
      "source": [
        "patient = 1"
      ],
      "metadata": {
        "id": "TjBdROMKHIs0"
      },
      "execution_count": 16,
      "outputs": []
    },
    {
      "cell_type": "code",
      "source": [
        "print(patient)"
      ],
      "metadata": {
        "colab": {
          "base_uri": "https://localhost:8080/"
        },
        "id": "spE7AbtEHk6M",
        "outputId": "3ca7193e-719e-4af2-952d-402324a2aa93"
      },
      "execution_count": 21,
      "outputs": [
        {
          "output_type": "stream",
          "name": "stdout",
          "text": [
            "1\n"
          ]
        }
      ]
    },
    {
      "cell_type": "code",
      "source": [
        "patient1 = 'LatinoAmerican'"
      ],
      "metadata": {
        "id": "7rndCwV5FDYj"
      },
      "execution_count": 2,
      "outputs": []
    },
    {
      "cell_type": "code",
      "source": [
        "patient1 = 2"
      ],
      "metadata": {
        "id": "gc3gLk7gHOKl"
      },
      "execution_count": 19,
      "outputs": []
    },
    {
      "cell_type": "code",
      "source": [
        "print(patient1)"
      ],
      "metadata": {
        "colab": {
          "base_uri": "https://localhost:8080/"
        },
        "id": "1YurJ6hLHr6K",
        "outputId": "449e7530-dca3-40e1-86b7-e758a6d19ed2"
      },
      "execution_count": 22,
      "outputs": [
        {
          "output_type": "stream",
          "name": "stdout",
          "text": [
            "2\n"
          ]
        }
      ]
    },
    {
      "cell_type": "code",
      "source": [
        "patient2 = 'AsianAmerican'"
      ],
      "metadata": {
        "id": "Qp41n6hJFHet"
      },
      "execution_count": 4,
      "outputs": []
    },
    {
      "cell_type": "code",
      "source": [
        "patient2 = 3"
      ],
      "metadata": {
        "id": "22gSyE-GHRT6"
      },
      "execution_count": 18,
      "outputs": []
    },
    {
      "cell_type": "code",
      "source": [
        "print(patient2)"
      ],
      "metadata": {
        "colab": {
          "base_uri": "https://localhost:8080/"
        },
        "id": "9LazfXwcHzXh",
        "outputId": "3d22a659-34dc-436b-c4e6-96831a50f529"
      },
      "execution_count": 23,
      "outputs": [
        {
          "output_type": "stream",
          "name": "stdout",
          "text": [
            "3\n"
          ]
        }
      ]
    },
    {
      "cell_type": "code",
      "source": [
        "patient3 = 'MideasternAmerican'"
      ],
      "metadata": {
        "id": "hz-rDd58FL4i"
      },
      "execution_count": 3,
      "outputs": []
    },
    {
      "cell_type": "code",
      "source": [
        "patient3 = 4"
      ],
      "metadata": {
        "id": "v_haNgGXHVeZ"
      },
      "execution_count": 17,
      "outputs": []
    },
    {
      "cell_type": "code",
      "source": [
        "print(patient3)"
      ],
      "metadata": {
        "colab": {
          "base_uri": "https://localhost:8080/"
        },
        "id": "-1jjAZCDH4K7",
        "outputId": "1c738017-f0fb-4181-c83a-3df7eea58ea4"
      },
      "execution_count": 24,
      "outputs": [
        {
          "output_type": "stream",
          "name": "stdout",
          "text": [
            "4\n"
          ]
        }
      ]
    },
    {
      "cell_type": "code",
      "source": [
        "patient4 = 'WhiteAmerican'"
      ],
      "metadata": {
        "id": "NmCwNSggFVus"
      },
      "execution_count": 5,
      "outputs": []
    },
    {
      "cell_type": "code",
      "source": [
        "patient4 = 5"
      ],
      "metadata": {
        "id": "ZFoZ7K00HYT5"
      },
      "execution_count": 20,
      "outputs": []
    },
    {
      "cell_type": "code",
      "source": [
        "print(patient4)"
      ],
      "metadata": {
        "colab": {
          "base_uri": "https://localhost:8080/"
        },
        "id": "ZwDdMpwbH8L5",
        "outputId": "cfa0575d-e26b-45ee-fa80-d7d614755c1c"
      },
      "execution_count": 26,
      "outputs": [
        {
          "output_type": "stream",
          "name": "stdout",
          "text": [
            "5\n"
          ]
        }
      ]
    },
    {
      "cell_type": "code",
      "source": [
        "patient5 = list()"
      ],
      "metadata": {
        "id": "vJYKqKZHGMNe"
      },
      "execution_count": 29,
      "outputs": []
    },
    {
      "cell_type": "code",
      "source": [
        "patients = 5"
      ],
      "metadata": {
        "id": "k_0f6oT7JMSx"
      },
      "execution_count": 30,
      "outputs": []
    },
    {
      "cell_type": "code",
      "source": [
        "patients == 1"
      ],
      "metadata": {
        "colab": {
          "base_uri": "https://localhost:8080/"
        },
        "id": "S-2hkAiLJapp",
        "outputId": "815b0615-0b14-4a4e-be45-fa95000912f1"
      },
      "execution_count": 33,
      "outputs": [
        {
          "output_type": "execute_result",
          "data": {
            "text/plain": [
              "False"
            ]
          },
          "metadata": {},
          "execution_count": 33
        }
      ]
    },
    {
      "cell_type": "code",
      "source": [
        "patients > 1"
      ],
      "metadata": {
        "colab": {
          "base_uri": "https://localhost:8080/"
        },
        "id": "LwvVQmJbJiQJ",
        "outputId": "b6339d47-c94a-435b-9fbd-e15a6ed0566f"
      },
      "execution_count": 34,
      "outputs": [
        {
          "output_type": "execute_result",
          "data": {
            "text/plain": [
              "True"
            ]
          },
          "metadata": {},
          "execution_count": 34
        }
      ]
    },
    {
      "cell_type": "code",
      "source": [
        "patientslist = ['AfricanAmerican', 'LatinoAmerican', 'AsianAmerican', 'MideasternAmerican', 'WhiteAmerican']"
      ],
      "metadata": {
        "id": "4v0gKBDYJ3YK"
      },
      "execution_count": 35,
      "outputs": []
    },
    {
      "cell_type": "code",
      "source": [
        "AfricanAmerican = ['male', 'female']\n",
        "for item in AfricanAmerican:\n",
        "  print('Hello', item)"
      ],
      "metadata": {
        "colab": {
          "base_uri": "https://localhost:8080/"
        },
        "id": "BBvT12V0LBJ2",
        "outputId": "8e8711d1-11de-48b7-d8a2-d6864b66b0ed"
      },
      "execution_count": 41,
      "outputs": [
        {
          "output_type": "stream",
          "name": "stdout",
          "text": [
            "Hello male\n",
            "Hello female\n"
          ]
        }
      ]
    },
    {
      "cell_type": "code",
      "source": [
        "LatinoAmerican = ['male', 'female']\n",
        "for item in LatinoAmerican:\n",
        "   print('Hello', item)"
      ],
      "metadata": {
        "colab": {
          "base_uri": "https://localhost:8080/"
        },
        "id": "b5d4Hs2ALkT_",
        "outputId": "242962d8-0ee3-43e5-98f2-4c10464d1dea"
      },
      "execution_count": 44,
      "outputs": [
        {
          "output_type": "stream",
          "name": "stdout",
          "text": [
            "Hello male\n",
            "Hello female\n"
          ]
        }
      ]
    },
    {
      "cell_type": "code",
      "source": [
        "AsianAmerican = ['male', 'female']\n",
        "for item in AsianAmerican:\n",
        "  print('Hello', item)"
      ],
      "metadata": {
        "colab": {
          "base_uri": "https://localhost:8080/"
        },
        "id": "SozgMfsjMlQN",
        "outputId": "9ccbd32c-d938-4469-eac1-fefde8a14114"
      },
      "execution_count": 45,
      "outputs": [
        {
          "output_type": "stream",
          "name": "stdout",
          "text": [
            "Hello male\n",
            "Hello female\n"
          ]
        }
      ]
    },
    {
      "cell_type": "code",
      "source": [
        "MideasternAmerican = ['male', 'female']\n",
        "for item in MideasternAmerican:\n",
        "  print('Hello', item)"
      ],
      "metadata": {
        "colab": {
          "base_uri": "https://localhost:8080/"
        },
        "id": "4U-3EX6nMyER",
        "outputId": "1dde6394-9885-4a16-a38c-6f6c9b35eca6"
      },
      "execution_count": 46,
      "outputs": [
        {
          "output_type": "stream",
          "name": "stdout",
          "text": [
            "Hello male\n",
            "Hello female\n"
          ]
        }
      ]
    },
    {
      "cell_type": "code",
      "source": [
        "WhiteAmerican = ['male', 'female']\n",
        "for item in WhiteAmerican:\n",
        "  print('Hello', item)"
      ],
      "metadata": {
        "colab": {
          "base_uri": "https://localhost:8080/"
        },
        "id": "VqbXNrQCM9lK",
        "outputId": "b26958a7-a0e7-4c7e-a673-3b5b66124475"
      },
      "execution_count": 47,
      "outputs": [
        {
          "output_type": "stream",
          "name": "stdout",
          "text": [
            "Hello male\n",
            "Hello female\n"
          ]
        }
      ]
    }
  ]
}