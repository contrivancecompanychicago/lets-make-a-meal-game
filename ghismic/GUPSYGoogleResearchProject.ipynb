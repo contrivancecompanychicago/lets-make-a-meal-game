{
  "cells": [
    {
      "cell_type": "markdown",
      "metadata": {
        "id": "ST7tV1qTDXjS"
      },
      "source": [
        "# GUPSY Methods in Jupyter Python\n",
        "\n",
        "\n",
        "```\n",
        "# Markdown\n",
        "```\n",
        "\n"
      ]
    },
    {
      "cell_type": "code",
      "execution_count": 1,
      "metadata": {},
      "outputs": [
        {
          "name": "stdout",
          "output_type": "stream",
          "text": [
            "Requirement already satisfied: cs50 in /opt/python/3.10.4/lib/python3.10/site-packages (9.2.0)\n",
            "Requirement already satisfied: SQLAlchemy in /opt/python/3.10.4/lib/python3.10/site-packages (from cs50) (1.4.37)\n",
            "Requirement already satisfied: wheel in /opt/python/3.10.4/lib/python3.10/site-packages (from cs50) (0.37.1)\n",
            "Requirement already satisfied: Flask>=1.0 in /opt/python/3.10.4/lib/python3.10/site-packages (from cs50) (2.1.2)\n",
            "Requirement already satisfied: termcolor in /opt/python/3.10.4/lib/python3.10/site-packages (from cs50) (1.1.0)\n",
            "Requirement already satisfied: sqlparse in /opt/python/3.10.4/lib/python3.10/site-packages (from cs50) (0.4.2)\n",
            "Requirement already satisfied: itsdangerous>=2.0 in /opt/python/3.10.4/lib/python3.10/site-packages (from Flask>=1.0->cs50) (2.1.2)\n",
            "Requirement already satisfied: click>=8.0 in /opt/python/3.10.4/lib/python3.10/site-packages (from Flask>=1.0->cs50) (8.1.3)\n",
            "Requirement already satisfied: Jinja2>=3.0 in /opt/python/3.10.4/lib/python3.10/site-packages (from Flask>=1.0->cs50) (3.1.2)\n",
            "Requirement already satisfied: Werkzeug>=2.0 in /opt/python/3.10.4/lib/python3.10/site-packages (from Flask>=1.0->cs50) (2.1.2)\n",
            "Requirement already satisfied: greenlet!=0.4.17 in /opt/python/3.10.4/lib/python3.10/site-packages (from SQLAlchemy->cs50) (1.1.2)\n",
            "Requirement already satisfied: MarkupSafe>=2.0 in /opt/python/3.10.4/lib/python3.10/site-packages (from Jinja2>=3.0->Flask>=1.0->cs50) (2.1.1)\n",
            "\u001b[33mWARNING: There was an error checking the latest version of pip.\u001b[0m\u001b[33m\n",
            "\u001b[0mNote: you may need to restart the kernel to use updated packages.\n"
          ]
        }
      ],
      "source": [
        "pip install cs50"
      ]
    },
    {
      "cell_type": "code",
      "execution_count": 2,
      "metadata": {},
      "outputs": [],
      "source": [
        "import hmmlearn"
      ]
    },
    {
      "cell_type": "code",
      "execution_count": 3,
      "metadata": {
        "id": "k0N5qZbiEg7r"
      },
      "outputs": [],
      "source": [
        "patient = 'AfricanAmerican'"
      ]
    },
    {
      "cell_type": "code",
      "execution_count": 4,
      "metadata": {
        "id": "TjBdROMKHIs0"
      },
      "outputs": [],
      "source": [
        "patient = 1"
      ]
    },
    {
      "cell_type": "code",
      "execution_count": 5,
      "metadata": {
        "colab": {
          "base_uri": "https://localhost:8080/"
        },
        "id": "spE7AbtEHk6M",
        "outputId": "3ca7193e-719e-4af2-952d-402324a2aa93"
      },
      "outputs": [
        {
          "name": "stdout",
          "output_type": "stream",
          "text": [
            "1\n"
          ]
        }
      ],
      "source": [
        "print(patient)"
      ]
    },
    {
      "cell_type": "code",
      "execution_count": 6,
      "metadata": {
        "id": "7rndCwV5FDYj"
      },
      "outputs": [],
      "source": [
        "patient1 = 'LatinoAmerican'"
      ]
    },
    {
      "cell_type": "code",
      "execution_count": 7,
      "metadata": {
        "id": "gc3gLk7gHOKl"
      },
      "outputs": [],
      "source": [
        "patient1 = 2"
      ]
    },
    {
      "cell_type": "code",
      "execution_count": 8,
      "metadata": {
        "colab": {
          "base_uri": "https://localhost:8080/"
        },
        "id": "1YurJ6hLHr6K",
        "outputId": "449e7530-dca3-40e1-86b7-e758a6d19ed2"
      },
      "outputs": [
        {
          "name": "stdout",
          "output_type": "stream",
          "text": [
            "2\n"
          ]
        }
      ],
      "source": [
        "print(patient1)"
      ]
    },
    {
      "cell_type": "code",
      "execution_count": 9,
      "metadata": {
        "id": "Qp41n6hJFHet"
      },
      "outputs": [],
      "source": [
        "patient2 = 'AsianAmerican'"
      ]
    },
    {
      "cell_type": "code",
      "execution_count": 10,
      "metadata": {
        "id": "22gSyE-GHRT6"
      },
      "outputs": [],
      "source": [
        "patient2 = 3"
      ]
    },
    {
      "cell_type": "code",
      "execution_count": 11,
      "metadata": {
        "colab": {
          "base_uri": "https://localhost:8080/"
        },
        "id": "9LazfXwcHzXh",
        "outputId": "3d22a659-34dc-436b-c4e6-96831a50f529"
      },
      "outputs": [
        {
          "name": "stdout",
          "output_type": "stream",
          "text": [
            "3\n"
          ]
        }
      ],
      "source": [
        "print(patient2)"
      ]
    },
    {
      "cell_type": "code",
      "execution_count": 12,
      "metadata": {
        "id": "hz-rDd58FL4i"
      },
      "outputs": [],
      "source": [
        "patient3 = 'MideasternAmerican'"
      ]
    },
    {
      "cell_type": "code",
      "execution_count": 13,
      "metadata": {
        "id": "v_haNgGXHVeZ"
      },
      "outputs": [],
      "source": [
        "patient3 = 4"
      ]
    },
    {
      "cell_type": "code",
      "execution_count": 14,
      "metadata": {
        "colab": {
          "base_uri": "https://localhost:8080/"
        },
        "id": "-1jjAZCDH4K7",
        "outputId": "1c738017-f0fb-4181-c83a-3df7eea58ea4"
      },
      "outputs": [
        {
          "name": "stdout",
          "output_type": "stream",
          "text": [
            "4\n"
          ]
        }
      ],
      "source": [
        "print(patient3)"
      ]
    },
    {
      "cell_type": "code",
      "execution_count": 15,
      "metadata": {
        "id": "NmCwNSggFVus"
      },
      "outputs": [],
      "source": [
        "patient4 = 'WhiteAmerican'"
      ]
    },
    {
      "cell_type": "code",
      "execution_count": 16,
      "metadata": {
        "id": "ZFoZ7K00HYT5"
      },
      "outputs": [],
      "source": [
        "patient4 = 5"
      ]
    },
    {
      "cell_type": "code",
      "execution_count": 17,
      "metadata": {
        "colab": {
          "base_uri": "https://localhost:8080/"
        },
        "id": "ZwDdMpwbH8L5",
        "outputId": "cfa0575d-e26b-45ee-fa80-d7d614755c1c"
      },
      "outputs": [
        {
          "name": "stdout",
          "output_type": "stream",
          "text": [
            "5\n"
          ]
        }
      ],
      "source": [
        "print(patient4)"
      ]
    },
    {
      "cell_type": "code",
      "execution_count": 18,
      "metadata": {
        "id": "vJYKqKZHGMNe"
      },
      "outputs": [],
      "source": [
        "patient5 = list()"
      ]
    },
    {
      "cell_type": "code",
      "execution_count": 19,
      "metadata": {
        "id": "k_0f6oT7JMSx"
      },
      "outputs": [],
      "source": [
        "patients = 5"
      ]
    },
    {
      "cell_type": "code",
      "execution_count": 20,
      "metadata": {
        "colab": {
          "base_uri": "https://localhost:8080/"
        },
        "id": "S-2hkAiLJapp",
        "outputId": "815b0615-0b14-4a4e-be45-fa95000912f1"
      },
      "outputs": [
        {
          "data": {
            "text/plain": [
              "False"
            ]
          },
          "execution_count": 20,
          "metadata": {},
          "output_type": "execute_result"
        }
      ],
      "source": [
        "patients == 1"
      ]
    },
    {
      "cell_type": "code",
      "execution_count": 21,
      "metadata": {
        "colab": {
          "base_uri": "https://localhost:8080/"
        },
        "id": "LwvVQmJbJiQJ",
        "outputId": "b6339d47-c94a-435b-9fbd-e15a6ed0566f"
      },
      "outputs": [
        {
          "data": {
            "text/plain": [
              "True"
            ]
          },
          "execution_count": 21,
          "metadata": {},
          "output_type": "execute_result"
        }
      ],
      "source": [
        "patients > 1"
      ]
    },
    {
      "cell_type": "code",
      "execution_count": 22,
      "metadata": {
        "id": "4v0gKBDYJ3YK"
      },
      "outputs": [],
      "source": [
        "patientslist = ['AfricanAmerican', 'LatinoAmerican', 'AsianAmerican', 'MideasternAmerican', 'WhiteAmerican']"
      ]
    },
    {
      "cell_type": "code",
      "execution_count": 23,
      "metadata": {
        "colab": {
          "base_uri": "https://localhost:8080/"
        },
        "id": "BBvT12V0LBJ2",
        "outputId": "8e8711d1-11de-48b7-d8a2-d6864b66b0ed"
      },
      "outputs": [
        {
          "name": "stdout",
          "output_type": "stream",
          "text": [
            "Hello male\n",
            "Hello female\n"
          ]
        }
      ],
      "source": [
        "AfricanAmerican = ['male', 'female']\n",
        "for item in AfricanAmerican:\n",
        "  print('Hello', item)"
      ]
    },
    {
      "cell_type": "code",
      "execution_count": 24,
      "metadata": {
        "colab": {
          "base_uri": "https://localhost:8080/"
        },
        "id": "b5d4Hs2ALkT_",
        "outputId": "242962d8-0ee3-43e5-98f2-4c10464d1dea"
      },
      "outputs": [
        {
          "name": "stdout",
          "output_type": "stream",
          "text": [
            "Hello male\n",
            "Hello female\n"
          ]
        }
      ],
      "source": [
        "LatinoAmerican = ['male', 'female']\n",
        "for item in LatinoAmerican:\n",
        "   print('Hello', item)"
      ]
    },
    {
      "cell_type": "code",
      "execution_count": 25,
      "metadata": {
        "colab": {
          "base_uri": "https://localhost:8080/"
        },
        "id": "SozgMfsjMlQN",
        "outputId": "9ccbd32c-d938-4469-eac1-fefde8a14114"
      },
      "outputs": [
        {
          "name": "stdout",
          "output_type": "stream",
          "text": [
            "Hello male\n",
            "Hello female\n"
          ]
        }
      ],
      "source": [
        "AsianAmerican = ['male', 'female']\n",
        "for item in AsianAmerican:\n",
        "  print('Hello', item)"
      ]
    },
    {
      "cell_type": "code",
      "execution_count": 26,
      "metadata": {
        "colab": {
          "base_uri": "https://localhost:8080/"
        },
        "id": "4U-3EX6nMyER",
        "outputId": "1dde6394-9885-4a16-a38c-6f6c9b35eca6"
      },
      "outputs": [
        {
          "name": "stdout",
          "output_type": "stream",
          "text": [
            "Hello male\n",
            "Hello female\n"
          ]
        }
      ],
      "source": [
        "MideasternAmerican = ['male', 'female']\n",
        "for item in MideasternAmerican:\n",
        "  print('Hello', item)"
      ]
    },
    {
      "cell_type": "code",
      "execution_count": 27,
      "metadata": {
        "colab": {
          "base_uri": "https://localhost:8080/"
        },
        "id": "VqbXNrQCM9lK",
        "outputId": "b26958a7-a0e7-4c7e-a673-3b5b66124475"
      },
      "outputs": [
        {
          "name": "stdout",
          "output_type": "stream",
          "text": [
            "Hello male\n",
            "Hello female\n"
          ]
        }
      ],
      "source": [
        "WhiteAmerican = ['male', 'female']\n",
        "for item in WhiteAmerican:\n",
        "  print('Hello', item)"
      ]
    }
  ],
  "metadata": {
    "colab": {
      "collapsed_sections": [],
      "name": "GUPSYGoogleResearchProject.ipynb",
      "provenance": []
    },
    "interpreter": {
      "hash": "4f946df053fbf2b937619d3c5458e7af74262f9a954d8797ba0b27400bcafe06"
    },
    "kernelspec": {
      "display_name": "Python 3.10.4 64-bit",
      "language": "python",
      "name": "python3"
    },
    "language_info": {
      "codemirror_mode": {
        "name": "ipython",
        "version": 3
      },
      "file_extension": ".py",
      "mimetype": "text/x-python",
      "name": "python",
      "nbconvert_exporter": "python",
      "pygments_lexer": "ipython3",
      "version": "3.10.4"
    }
  },
  "nbformat": 4,
  "nbformat_minor": 0
}
